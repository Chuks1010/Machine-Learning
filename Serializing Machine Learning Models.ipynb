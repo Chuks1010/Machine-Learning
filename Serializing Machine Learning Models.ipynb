{
 "cells": [
  {
   "cell_type": "markdown",
   "metadata": {},
   "source": [
    "## Serialization of Machine Learning Models\n",
    "\n",
    "Serialization is the process of converting a python object into a stream of bytes so as to store or transmit the object to memory, a database or a file. The main objective of serialization is to save the state of an object in order to recreate it when needed. The opposite or reverse process is deserialization. This article covers json, pickel and joblib serialization.\n",
    "This is a clean dataset and not much preprocessing is needed."
   ]
  },
  {
   "cell_type": "code",
   "execution_count": 1,
   "metadata": {},
   "outputs": [],
   "source": [
    "# Importingthe require libraries\n",
    "import numpy as np\n",
    "import pandas as pd\n",
    "from sklearn.model_selection import train_test_split\n",
    "from sklearn.linear_model import LinearRegression\n",
    "from sklearn.metrics import r2_score"
   ]
  },
  {
   "cell_type": "code",
   "execution_count": 2,
   "metadata": {},
   "outputs": [
    {
     "data": {
      "text/html": [
       "<div>\n",
       "<style scoped>\n",
       "    .dataframe tbody tr th:only-of-type {\n",
       "        vertical-align: middle;\n",
       "    }\n",
       "\n",
       "    .dataframe tbody tr th {\n",
       "        vertical-align: top;\n",
       "    }\n",
       "\n",
       "    .dataframe thead th {\n",
       "        text-align: right;\n",
       "    }\n",
       "</style>\n",
       "<table border=\"1\" class=\"dataframe\">\n",
       "  <thead>\n",
       "    <tr style=\"text-align: right;\">\n",
       "      <th></th>\n",
       "      <th>car_ID</th>\n",
       "      <th>symboling</th>\n",
       "      <th>CarName</th>\n",
       "      <th>fueltype</th>\n",
       "      <th>aspiration</th>\n",
       "      <th>doornumber</th>\n",
       "      <th>carbody</th>\n",
       "      <th>drivewheel</th>\n",
       "      <th>enginelocation</th>\n",
       "      <th>wheelbase</th>\n",
       "      <th>...</th>\n",
       "      <th>enginesize</th>\n",
       "      <th>fuelsystem</th>\n",
       "      <th>boreratio</th>\n",
       "      <th>stroke</th>\n",
       "      <th>compressionratio</th>\n",
       "      <th>horsepower</th>\n",
       "      <th>peakrpm</th>\n",
       "      <th>citympg</th>\n",
       "      <th>highwaympg</th>\n",
       "      <th>price</th>\n",
       "    </tr>\n",
       "  </thead>\n",
       "  <tbody>\n",
       "    <tr>\n",
       "      <th>0</th>\n",
       "      <td>1</td>\n",
       "      <td>3</td>\n",
       "      <td>alfa-romero giulia</td>\n",
       "      <td>gas</td>\n",
       "      <td>std</td>\n",
       "      <td>two</td>\n",
       "      <td>convertible</td>\n",
       "      <td>rwd</td>\n",
       "      <td>front</td>\n",
       "      <td>88.6</td>\n",
       "      <td>...</td>\n",
       "      <td>130</td>\n",
       "      <td>mpfi</td>\n",
       "      <td>3.47</td>\n",
       "      <td>2.68</td>\n",
       "      <td>9.0</td>\n",
       "      <td>111</td>\n",
       "      <td>5000</td>\n",
       "      <td>21</td>\n",
       "      <td>27</td>\n",
       "      <td>13495.0</td>\n",
       "    </tr>\n",
       "    <tr>\n",
       "      <th>1</th>\n",
       "      <td>2</td>\n",
       "      <td>3</td>\n",
       "      <td>alfa-romero stelvio</td>\n",
       "      <td>gas</td>\n",
       "      <td>std</td>\n",
       "      <td>two</td>\n",
       "      <td>convertible</td>\n",
       "      <td>rwd</td>\n",
       "      <td>front</td>\n",
       "      <td>88.6</td>\n",
       "      <td>...</td>\n",
       "      <td>130</td>\n",
       "      <td>mpfi</td>\n",
       "      <td>3.47</td>\n",
       "      <td>2.68</td>\n",
       "      <td>9.0</td>\n",
       "      <td>111</td>\n",
       "      <td>5000</td>\n",
       "      <td>21</td>\n",
       "      <td>27</td>\n",
       "      <td>16500.0</td>\n",
       "    </tr>\n",
       "    <tr>\n",
       "      <th>2</th>\n",
       "      <td>3</td>\n",
       "      <td>1</td>\n",
       "      <td>alfa-romero Quadrifoglio</td>\n",
       "      <td>gas</td>\n",
       "      <td>std</td>\n",
       "      <td>two</td>\n",
       "      <td>hatchback</td>\n",
       "      <td>rwd</td>\n",
       "      <td>front</td>\n",
       "      <td>94.5</td>\n",
       "      <td>...</td>\n",
       "      <td>152</td>\n",
       "      <td>mpfi</td>\n",
       "      <td>2.68</td>\n",
       "      <td>3.47</td>\n",
       "      <td>9.0</td>\n",
       "      <td>154</td>\n",
       "      <td>5000</td>\n",
       "      <td>19</td>\n",
       "      <td>26</td>\n",
       "      <td>16500.0</td>\n",
       "    </tr>\n",
       "    <tr>\n",
       "      <th>3</th>\n",
       "      <td>4</td>\n",
       "      <td>2</td>\n",
       "      <td>audi 100 ls</td>\n",
       "      <td>gas</td>\n",
       "      <td>std</td>\n",
       "      <td>four</td>\n",
       "      <td>sedan</td>\n",
       "      <td>fwd</td>\n",
       "      <td>front</td>\n",
       "      <td>99.8</td>\n",
       "      <td>...</td>\n",
       "      <td>109</td>\n",
       "      <td>mpfi</td>\n",
       "      <td>3.19</td>\n",
       "      <td>3.40</td>\n",
       "      <td>10.0</td>\n",
       "      <td>102</td>\n",
       "      <td>5500</td>\n",
       "      <td>24</td>\n",
       "      <td>30</td>\n",
       "      <td>13950.0</td>\n",
       "    </tr>\n",
       "    <tr>\n",
       "      <th>4</th>\n",
       "      <td>5</td>\n",
       "      <td>2</td>\n",
       "      <td>audi 100ls</td>\n",
       "      <td>gas</td>\n",
       "      <td>std</td>\n",
       "      <td>four</td>\n",
       "      <td>sedan</td>\n",
       "      <td>4wd</td>\n",
       "      <td>front</td>\n",
       "      <td>99.4</td>\n",
       "      <td>...</td>\n",
       "      <td>136</td>\n",
       "      <td>mpfi</td>\n",
       "      <td>3.19</td>\n",
       "      <td>3.40</td>\n",
       "      <td>8.0</td>\n",
       "      <td>115</td>\n",
       "      <td>5500</td>\n",
       "      <td>18</td>\n",
       "      <td>22</td>\n",
       "      <td>17450.0</td>\n",
       "    </tr>\n",
       "  </tbody>\n",
       "</table>\n",
       "<p>5 rows × 26 columns</p>\n",
       "</div>"
      ],
      "text/plain": [
       "   car_ID  symboling                   CarName fueltype aspiration doornumber  \\\n",
       "0       1          3        alfa-romero giulia      gas        std        two   \n",
       "1       2          3       alfa-romero stelvio      gas        std        two   \n",
       "2       3          1  alfa-romero Quadrifoglio      gas        std        two   \n",
       "3       4          2               audi 100 ls      gas        std       four   \n",
       "4       5          2                audi 100ls      gas        std       four   \n",
       "\n",
       "       carbody drivewheel enginelocation  wheelbase  ...  enginesize  \\\n",
       "0  convertible        rwd          front       88.6  ...         130   \n",
       "1  convertible        rwd          front       88.6  ...         130   \n",
       "2    hatchback        rwd          front       94.5  ...         152   \n",
       "3        sedan        fwd          front       99.8  ...         109   \n",
       "4        sedan        4wd          front       99.4  ...         136   \n",
       "\n",
       "   fuelsystem  boreratio  stroke compressionratio horsepower  peakrpm citympg  \\\n",
       "0        mpfi       3.47    2.68              9.0        111     5000      21   \n",
       "1        mpfi       3.47    2.68              9.0        111     5000      21   \n",
       "2        mpfi       2.68    3.47              9.0        154     5000      19   \n",
       "3        mpfi       3.19    3.40             10.0        102     5500      24   \n",
       "4        mpfi       3.19    3.40              8.0        115     5500      18   \n",
       "\n",
       "   highwaympg    price  \n",
       "0          27  13495.0  \n",
       "1          27  16500.0  \n",
       "2          26  16500.0  \n",
       "3          30  13950.0  \n",
       "4          22  17450.0  \n",
       "\n",
       "[5 rows x 26 columns]"
      ]
     },
     "execution_count": 2,
     "metadata": {},
     "output_type": "execute_result"
    }
   ],
   "source": [
    "# loading the data\n",
    "autos = pd.read_csv(r'C:\\Users\\Chuks\\datasets\\CarPrice_Assignment.csv')\n",
    "autos.head()"
   ]
  },
  {
   "cell_type": "code",
   "execution_count": 3,
   "metadata": {},
   "outputs": [
    {
     "data": {
      "text/plain": [
       "(205, 26)"
      ]
     },
     "execution_count": 3,
     "metadata": {},
     "output_type": "execute_result"
    }
   ],
   "source": [
    "autos.shape"
   ]
  },
  {
   "cell_type": "code",
   "execution_count": 4,
   "metadata": {},
   "outputs": [
    {
     "data": {
      "text/plain": [
       "Index(['car_ID', 'symboling', 'CarName', 'fueltype', 'aspiration',\n",
       "       'doornumber', 'carbody', 'drivewheel', 'enginelocation', 'wheelbase',\n",
       "       'carlength', 'carwidth', 'carheight', 'curbweight', 'enginetype',\n",
       "       'cylindernumber', 'enginesize', 'fuelsystem', 'boreratio', 'stroke',\n",
       "       'compressionratio', 'horsepower', 'peakrpm', 'citympg', 'highwaympg',\n",
       "       'price'],\n",
       "      dtype='object')"
      ]
     },
     "execution_count": 4,
     "metadata": {},
     "output_type": "execute_result"
    }
   ],
   "source": [
    "autos.columns"
   ]
  },
  {
   "cell_type": "code",
   "execution_count": 5,
   "metadata": {},
   "outputs": [],
   "source": [
    "# Dropping irrelevant columns\n",
    "autos.drop(['car_ID', 'symboling', 'CarName'], axis=1, inplace=True)"
   ]
  },
  {
   "cell_type": "code",
   "execution_count": 6,
   "metadata": {},
   "outputs": [
    {
     "data": {
      "text/plain": [
       "False"
      ]
     },
     "execution_count": 6,
     "metadata": {},
     "output_type": "execute_result"
    }
   ],
   "source": [
    "# Checking for null values\n",
    "autos.isnull().values.any()"
   ]
  },
  {
   "cell_type": "code",
   "execution_count": 7,
   "metadata": {},
   "outputs": [],
   "source": [
    "# Converting categorical datato numeric data using onehot encoding\n",
    "autos = pd.get_dummies(autos)"
   ]
  },
  {
   "cell_type": "code",
   "execution_count": 8,
   "metadata": {},
   "outputs": [
    {
     "data": {
      "text/plain": [
       "(205, 52)"
      ]
     },
     "execution_count": 8,
     "metadata": {},
     "output_type": "execute_result"
    }
   ],
   "source": [
    "autos.shape"
   ]
  },
  {
   "cell_type": "markdown",
   "metadata": {},
   "source": [
    "The data set has 205 records or instances and 26 features. Of the features we dropped 3 and are left with 23. There are no null vales in data as can be seem from the isnull() function call. Due tothe far that machine learning algorithm prefer numeric data we converted categorical features to numeric features using onehot encoding bycall the get_dummies() function. This increased the number of features to 52 from 23."
   ]
  },
  {
   "cell_type": "code",
   "execution_count": 9,
   "metadata": {},
   "outputs": [],
   "source": [
    "# Selecting the features and target\n",
    "X = autos.drop('price', axis=1)\n",
    "Y = autos['price']"
   ]
  },
  {
   "cell_type": "code",
   "execution_count": 10,
   "metadata": {},
   "outputs": [],
   "source": [
    "x_train, x_test, y_train, y_test = train_test_split(X, Y, test_size=0.2)"
   ]
  },
  {
   "cell_type": "code",
   "execution_count": 11,
   "metadata": {},
   "outputs": [
    {
     "data": {
      "text/plain": [
       "((164, 51), (41, 51), (164,), (41,))"
      ]
     },
     "execution_count": 11,
     "metadata": {},
     "output_type": "execute_result"
    }
   ],
   "source": [
    "x_train.shape, x_test.shape, y_train.shape, y_test.shape"
   ]
  },
  {
   "cell_type": "code",
   "execution_count": 12,
   "metadata": {},
   "outputs": [],
   "source": [
    "model = LinearRegression().fit(x_train, y_train)"
   ]
  },
  {
   "cell_type": "code",
   "execution_count": 13,
   "metadata": {},
   "outputs": [
    {
     "data": {
      "text/plain": [
       "0.9445695211160382"
      ]
     },
     "execution_count": 13,
     "metadata": {},
     "output_type": "execute_result"
    }
   ],
   "source": [
    "Training_score = model.score(x_train, y_train)\n",
    "Training_score"
   ]
  },
  {
   "cell_type": "code",
   "execution_count": 14,
   "metadata": {},
   "outputs": [
    {
     "data": {
      "text/plain": [
       "array([ 6863.62855482, 21566.20178414, 11408.97411649,  5985.98770385,\n",
       "        9468.94096303, 14340.78835904,  7739.29658797, 36655.82084638,\n",
       "        7445.25467913,  9627.28951173,  4008.7947898 , 10375.29411098,\n",
       "        7545.67645761,  9352.85961158, 16602.53073294,  6731.29361765,\n",
       "        1950.47008273,  5267.3968403 , 34028.        ,  4606.80719846,\n",
       "        9722.77675454,  9126.86254149,  6212.50208146, 20744.80630235,\n",
       "        5110.82639683,  9768.54984982, 18391.5718596 ,  9763.09574787,\n",
       "        5829.37005383,  6210.3225186 , 33559.77312113, 16233.83973568,\n",
       "       13185.51774306, 18033.56617963, 28845.24591507, 10063.65792034,\n",
       "       10522.65415119, 10586.04337225, 14003.72864568,  6257.37536935,\n",
       "       15416.73855962])"
      ]
     },
     "execution_count": 14,
     "metadata": {},
     "output_type": "execute_result"
    }
   ],
   "source": [
    "y_pred = model.predict(x_test)\n",
    "y_pred"
   ]
  },
  {
   "cell_type": "code",
   "execution_count": 15,
   "metadata": {},
   "outputs": [
    {
     "data": {
      "text/plain": [
       "0.8163709811361523"
      ]
     },
     "execution_count": 15,
     "metadata": {},
     "output_type": "execute_result"
    }
   ],
   "source": [
    "Testing_score = r2_score(y_test, y_pred)\n",
    "Testing_score"
   ]
  },
  {
   "cell_type": "markdown",
   "metadata": {},
   "source": [
    "Our target or label isthe pricing column because it is what we want to predict. The data was split into training and testing data in a 80:20 ratio. As a result 164 records and 51 features was used for training while 41 records and 51 features was used for testing. After fitting and testing the data our model produced R squarred score of 94% on the training and 81% on the testing data.\n",
    "\n",
    "## Serializing our Model \n",
    "\n",
    "For simple linear regression model the only parameter we need to save to disc is the model coefficients and intercept. We can use json because we know the model parameters to save. For complex model where we dont know the model where the "
   ]
  },
  {
   "cell_type": "code",
   "execution_count": 16,
   "metadata": {},
   "outputs": [],
   "source": [
    "import json"
   ]
  },
  {
   "cell_type": "code",
   "execution_count": 17,
   "metadata": {},
   "outputs": [
    {
     "data": {
      "text/plain": [
       "array([ 4.07552804e+01, -2.98927172e-01,  5.20655385e+02,  8.10359824e+01,\n",
       "        2.79482330e+00,  1.94335957e+02, -7.55323689e+03, -7.69760029e+03,\n",
       "       -8.91753741e+02,  1.54857694e+01,  2.68542580e+00, -3.53136714e+02,\n",
       "        3.44366169e+02,  4.89253709e+03, -4.89253709e+03, -9.00049769e+02,\n",
       "        9.00049769e+02, -1.60643371e+02,  1.60643371e+02,  2.33461986e+03,\n",
       "       -1.70228766e+02, -8.21648133e+02, -1.41806383e+02, -1.20093657e+03,\n",
       "        5.09810471e+02, -6.42262885e+02,  1.32452414e+02, -2.56113612e+03,\n",
       "        2.56113612e+03, -4.65923313e+02, -1.78642537e+03, -1.80297955e+03,\n",
       "        3.50856111e+03,  2.25939285e+03, -5.30511116e+03,  3.59248544e+03,\n",
       "        8.51720193e+02, -1.65729103e+03,  4.01724465e+02, -5.02478144e+02,\n",
       "        1.31829432e+04, -1.58691041e+04,  3.59248544e+03, -3.14132217e+02,\n",
       "       -3.51503935e+02,  3.59248544e+03,  4.89253709e+03, -3.66081079e+03,\n",
       "       -4.38251651e+02, -3.46173787e+03, -2.58586066e+02])"
      ]
     },
     "execution_count": 17,
     "metadata": {},
     "output_type": "execute_result"
    }
   ],
   "source": [
    "model.coef_"
   ]
  },
  {
   "cell_type": "code",
   "execution_count": 18,
   "metadata": {},
   "outputs": [
    {
     "data": {
      "text/plain": [
       "-13818.542782425691"
      ]
     },
     "execution_count": 18,
     "metadata": {},
     "output_type": "execute_result"
    }
   ],
   "source": [
    "model.intercept_"
   ]
  },
  {
   "cell_type": "code",
   "execution_count": 19,
   "metadata": {},
   "outputs": [
    {
     "data": {
      "text/plain": [
       "{'coef': [40.755280367373025,\n",
       "  -0.29892717234860733,\n",
       "  520.6553845638124,\n",
       "  81.03598240961553,\n",
       "  2.7948232978207557,\n",
       "  194.33595741236456,\n",
       "  -7553.236891853626,\n",
       "  -7697.600290935531,\n",
       "  -891.7537410444038,\n",
       "  15.485769425219587,\n",
       "  2.6854257992904422,\n",
       "  -353.13671367317875,\n",
       "  344.3661688915354,\n",
       "  4892.537090397717,\n",
       "  -4892.537090397679,\n",
       "  -900.0497692907209,\n",
       "  900.0497692906896,\n",
       "  -160.64337068410146,\n",
       "  160.6433706841133,\n",
       "  2334.6198557257526,\n",
       "  -170.22876554892156,\n",
       "  -821.6481329834207,\n",
       "  -141.80638256570643,\n",
       "  -1200.9365746277256,\n",
       "  509.81047094994875,\n",
       "  -642.2628850939834,\n",
       "  132.4524141440511,\n",
       "  -2561.1361194170813,\n",
       "  2561.1361194170886,\n",
       "  -465.9233125860318,\n",
       "  -1786.4253748033466,\n",
       "  -1802.9795521690273,\n",
       "  3508.5611097725064,\n",
       "  2259.3928518960515,\n",
       "  -5305.111163675709,\n",
       "  3592.4854415655127,\n",
       "  851.7201931846895,\n",
       "  -1657.291033964342,\n",
       "  401.7244650281545,\n",
       "  -502.47814399988374,\n",
       "  13182.943171855353,\n",
       "  -15869.1040936695,\n",
       "  3592.485441565521,\n",
       "  -314.1322169873389,\n",
       "  -351.5039345698659,\n",
       "  3592.485441565521,\n",
       "  4892.537090397704,\n",
       "  -3660.8107895683797,\n",
       "  -438.251651237494,\n",
       "  -3461.7378734059744,\n",
       "  -258.5860661941422],\n",
       " 'intercept': -13818.542782425691}"
      ]
     },
     "execution_count": 19,
     "metadata": {},
     "output_type": "execute_result"
    }
   ],
   "source": [
    "# Converting the cofficient anf intercept to a python list and saving them to a dictionary\n",
    "model_param = {}\n",
    "\n",
    "model_param['coef'] = list(model.coef_)\n",
    "model_param['intercept'] = model.intercept_.tolist()\n",
    "\n",
    "model_param"
   ]
  },
  {
   "cell_type": "code",
   "execution_count": 20,
   "metadata": {},
   "outputs": [
    {
     "data": {
      "text/plain": [
       "'{\\n    \"coef\": [\\n        40.755280367373025,\\n        -0.29892717234860733,\\n        520.6553845638124,\\n        81.03598240961553,\\n        2.7948232978207557,\\n        194.33595741236456,\\n        -7553.236891853626,\\n        -7697.600290935531,\\n        -891.7537410444038,\\n        15.485769425219587,\\n        2.6854257992904422,\\n        -353.13671367317875,\\n        344.3661688915354,\\n        4892.537090397717,\\n        -4892.537090397679,\\n        -900.0497692907209,\\n        900.0497692906896,\\n        -160.64337068410146,\\n        160.6433706841133,\\n        2334.6198557257526,\\n        -170.22876554892156,\\n        -821.6481329834207,\\n        -141.80638256570643,\\n        -1200.9365746277256,\\n        509.81047094994875,\\n        -642.2628850939834,\\n        132.4524141440511,\\n        -2561.1361194170813,\\n        2561.1361194170886,\\n        -465.9233125860318,\\n        -1786.4253748033466,\\n        -1802.9795521690273,\\n        3508.5611097725064,\\n        2259.3928518960515,\\n        -5305.111163675709,\\n        3592.4854415655127,\\n        851.7201931846895,\\n        -1657.291033964342,\\n        401.7244650281545,\\n        -502.47814399988374,\\n        13182.943171855353,\\n        -15869.1040936695,\\n        3592.485441565521,\\n        -314.1322169873389,\\n        -351.5039345698659,\\n        3592.485441565521,\\n        4892.537090397704,\\n        -3660.8107895683797,\\n        -438.251651237494,\\n        -3461.7378734059744,\\n        -258.5860661941422\\n    ],\\n    \"intercept\": -13818.542782425691\\n}'"
      ]
     },
     "execution_count": 20,
     "metadata": {},
     "output_type": "execute_result"
    }
   ],
   "source": [
    "# Dump 's' will dump the dictionary to a string\n",
    "json_txt = json.dumps(model_param, indent=4)\n",
    "json_txt"
   ]
  },
  {
   "cell_type": "code",
   "execution_count": 21,
   "metadata": {},
   "outputs": [],
   "source": [
    "# Create a folder in your home directory and write ('w') the json file into the directory\n",
    "with open('models/regressor_param.txt', 'w') as file:\n",
    "    file.write(json_txt)"
   ]
  },
  {
   "cell_type": "code",
   "execution_count": 22,
   "metadata": {},
   "outputs": [],
   "source": [
    "# open the file with 'r' for read and its converted to a python dictionary\n",
    "with open('models/regressor_param.txt', 'r') as file:\n",
    "    json.text = json.load(file)"
   ]
  },
  {
   "cell_type": "code",
   "execution_count": 23,
   "metadata": {},
   "outputs": [
    {
     "data": {
      "text/plain": [
       "{'coef': [40.755280367373025,\n",
       "  -0.29892717234860733,\n",
       "  520.6553845638124,\n",
       "  81.03598240961553,\n",
       "  2.7948232978207557,\n",
       "  194.33595741236456,\n",
       "  -7553.236891853626,\n",
       "  -7697.600290935531,\n",
       "  -891.7537410444038,\n",
       "  15.485769425219587,\n",
       "  2.6854257992904422,\n",
       "  -353.13671367317875,\n",
       "  344.3661688915354,\n",
       "  4892.537090397717,\n",
       "  -4892.537090397679,\n",
       "  -900.0497692907209,\n",
       "  900.0497692906896,\n",
       "  -160.64337068410146,\n",
       "  160.6433706841133,\n",
       "  2334.6198557257526,\n",
       "  -170.22876554892156,\n",
       "  -821.6481329834207,\n",
       "  -141.80638256570643,\n",
       "  -1200.9365746277256,\n",
       "  509.81047094994875,\n",
       "  -642.2628850939834,\n",
       "  132.4524141440511,\n",
       "  -2561.1361194170813,\n",
       "  2561.1361194170886,\n",
       "  -465.9233125860318,\n",
       "  -1786.4253748033466,\n",
       "  -1802.9795521690273,\n",
       "  3508.5611097725064,\n",
       "  2259.3928518960515,\n",
       "  -5305.111163675709,\n",
       "  3592.4854415655127,\n",
       "  851.7201931846895,\n",
       "  -1657.291033964342,\n",
       "  401.7244650281545,\n",
       "  -502.47814399988374,\n",
       "  13182.943171855353,\n",
       "  -15869.1040936695,\n",
       "  3592.485441565521,\n",
       "  -314.1322169873389,\n",
       "  -351.5039345698659,\n",
       "  3592.485441565521,\n",
       "  4892.537090397704,\n",
       "  -3660.8107895683797,\n",
       "  -438.251651237494,\n",
       "  -3461.7378734059744,\n",
       "  -258.5860661941422],\n",
       " 'intercept': -13818.542782425691}"
      ]
     },
     "execution_count": 23,
     "metadata": {},
     "output_type": "execute_result"
    }
   ],
   "source": [
    "json.text"
   ]
  },
  {
   "cell_type": "code",
   "execution_count": 24,
   "metadata": {},
   "outputs": [],
   "source": [
    "json_model = LinearRegression()"
   ]
  },
  {
   "cell_type": "code",
   "execution_count": 25,
   "metadata": {},
   "outputs": [],
   "source": [
    "# Deserializing the json model\n",
    "json_model.coef_ = np.array(json.text['coef'])\n",
    "json_model.intercept_ = np.array(json.text['intercept'])"
   ]
  },
  {
   "cell_type": "code",
   "execution_count": 26,
   "metadata": {},
   "outputs": [
    {
     "data": {
      "text/plain": [
       "0.8163709811361523"
      ]
     },
     "execution_count": 26,
     "metadata": {},
     "output_type": "execute_result"
    }
   ],
   "source": [
    "# Predicting\n",
    "y_pred = json_model.predict(x_test)\n",
    "\n",
    "# Json model test score\n",
    "r2_score(y_test, y_pred)"
   ]
  },
  {
   "cell_type": "code",
   "execution_count": 27,
   "metadata": {},
   "outputs": [
    {
     "data": {
      "text/plain": [
       "0.8163709811361523"
      ]
     },
     "execution_count": 27,
     "metadata": {},
     "output_type": "execute_result"
    }
   ],
   "source": [
    "# Initial test score\n",
    "Testing_score"
   ]
  },
  {
   "cell_type": "markdown",
   "metadata": {},
   "source": [
    "There is a drawback with serialization with json because you need to know what model parameter you need to write out to disc. We can perform seralization of simple linear regreesion with json because the coefficient and the interceprt are the only model parameters we need to save. If you are working with more complex models such as decision trees and Support Vector Michines you might have to go with other serialization technique such as Pickle and joblib.\n",
    "\n",
    "Pickle module implement protocols for serializing and deserializing python objects to a bytestream."
   ]
  },
  {
   "cell_type": "code",
   "execution_count": 28,
   "metadata": {},
   "outputs": [],
   "source": [
    "import pickle"
   ]
  },
  {
   "cell_type": "code",
   "execution_count": 29,
   "metadata": {},
   "outputs": [],
   "source": [
    "# Serialization\n",
    "pickle.dump(model, open('models/model.pkl', 'wb'))"
   ]
  },
  {
   "cell_type": "code",
   "execution_count": 30,
   "metadata": {},
   "outputs": [],
   "source": [
    "# Deserialization\n",
    "pickle_model = pickle.load(open('models/model.pkl', 'rb'))"
   ]
  },
  {
   "cell_type": "code",
   "execution_count": 31,
   "metadata": {},
   "outputs": [
    {
     "data": {
      "text/plain": [
       "array([ 6863.62855482, 21566.20178414, 11408.97411649,  5985.98770385,\n",
       "        9468.94096303, 14340.78835904,  7739.29658797, 36655.82084638,\n",
       "        7445.25467913,  9627.28951173,  4008.7947898 , 10375.29411098,\n",
       "        7545.67645761,  9352.85961158, 16602.53073294,  6731.29361765,\n",
       "        1950.47008273,  5267.3968403 , 34028.        ,  4606.80719846,\n",
       "        9722.77675454,  9126.86254149,  6212.50208146, 20744.80630235,\n",
       "        5110.82639683,  9768.54984982, 18391.5718596 ,  9763.09574787,\n",
       "        5829.37005383,  6210.3225186 , 33559.77312113, 16233.83973568,\n",
       "       13185.51774306, 18033.56617963, 28845.24591507, 10063.65792034,\n",
       "       10522.65415119, 10586.04337225, 14003.72864568,  6257.37536935,\n",
       "       15416.73855962])"
      ]
     },
     "execution_count": 31,
     "metadata": {},
     "output_type": "execute_result"
    }
   ],
   "source": [
    "# Prediction\n",
    "y_pred = pickle_model.predict(x_test)\n",
    "y_pred"
   ]
  },
  {
   "cell_type": "code",
   "execution_count": 32,
   "metadata": {},
   "outputs": [
    {
     "data": {
      "text/plain": [
       "0.8163709811361523"
      ]
     },
     "execution_count": 32,
     "metadata": {},
     "output_type": "execute_result"
    }
   ],
   "source": [
    "# Pickle model test score\n",
    "r2_score(y_test, y_pred)"
   ]
  },
  {
   "cell_type": "code",
   "execution_count": 33,
   "metadata": {},
   "outputs": [
    {
     "data": {
      "text/plain": [
       "0.8163709811361523"
      ]
     },
     "execution_count": 33,
     "metadata": {},
     "output_type": "execute_result"
    }
   ],
   "source": [
    "# Initial test score\n",
    "Testing_score"
   ]
  },
  {
   "cell_type": "markdown",
   "metadata": {},
   "source": [
    "Another alternative to pickle is joblib module. This is a better fit for serializing scikit-learn models as it works more efficiently with objects that have large numpy arrays internally. Machine learning models often hold model parameters in the form of sparse vectors this is why joblib is the preferred option to serialize models out to disc."
   ]
  },
  {
   "cell_type": "code",
   "execution_count": 34,
   "metadata": {},
   "outputs": [],
   "source": [
    "import joblib"
   ]
  },
  {
   "cell_type": "code",
   "execution_count": 35,
   "metadata": {},
   "outputs": [],
   "source": [
    "filename = 'models/model.joblib'"
   ]
  },
  {
   "cell_type": "code",
   "execution_count": 36,
   "metadata": {},
   "outputs": [
    {
     "data": {
      "text/plain": [
       "['models/model.joblib']"
      ]
     },
     "execution_count": 36,
     "metadata": {},
     "output_type": "execute_result"
    }
   ],
   "source": [
    "# Serialization\n",
    "joblib.dump(model, filename)"
   ]
  },
  {
   "cell_type": "code",
   "execution_count": 37,
   "metadata": {},
   "outputs": [],
   "source": [
    "# Deserialization\n",
    "joblib_model = joblib.load(filename)"
   ]
  },
  {
   "cell_type": "code",
   "execution_count": 38,
   "metadata": {},
   "outputs": [
    {
     "data": {
      "text/plain": [
       "array([ 6863.62855482, 21566.20178414, 11408.97411649,  5985.98770385,\n",
       "        9468.94096303, 14340.78835904,  7739.29658797, 36655.82084638,\n",
       "        7445.25467913,  9627.28951173,  4008.7947898 , 10375.29411098,\n",
       "        7545.67645761,  9352.85961158, 16602.53073294,  6731.29361765,\n",
       "        1950.47008273,  5267.3968403 , 34028.        ,  4606.80719846,\n",
       "        9722.77675454,  9126.86254149,  6212.50208146, 20744.80630235,\n",
       "        5110.82639683,  9768.54984982, 18391.5718596 ,  9763.09574787,\n",
       "        5829.37005383,  6210.3225186 , 33559.77312113, 16233.83973568,\n",
       "       13185.51774306, 18033.56617963, 28845.24591507, 10063.65792034,\n",
       "       10522.65415119, 10586.04337225, 14003.72864568,  6257.37536935,\n",
       "       15416.73855962])"
      ]
     },
     "execution_count": 38,
     "metadata": {},
     "output_type": "execute_result"
    }
   ],
   "source": [
    "# Predicting\n",
    "y_pred = joblib_model.predict(x_test)\n",
    "y_pred"
   ]
  },
  {
   "cell_type": "code",
   "execution_count": 39,
   "metadata": {},
   "outputs": [
    {
     "data": {
      "text/plain": [
       "0.8163709811361523"
      ]
     },
     "execution_count": 39,
     "metadata": {},
     "output_type": "execute_result"
    }
   ],
   "source": [
    "# Joblib model test score\n",
    "r2_score(y_test, y_pred)"
   ]
  },
  {
   "cell_type": "code",
   "execution_count": 40,
   "metadata": {},
   "outputs": [
    {
     "data": {
      "text/plain": [
       "0.8163709811361523"
      ]
     },
     "execution_count": 40,
     "metadata": {},
     "output_type": "execute_result"
    }
   ],
   "source": [
    "# Initial test score\n",
    "Testing_score"
   ]
  },
  {
   "cell_type": "code",
   "execution_count": 41,
   "metadata": {},
   "outputs": [
    {
     "name": "stdout",
     "output_type": "stream",
     "text": [
      "model.joblib\n",
      "model.pkl\n",
      "regressor_param.txt\n"
     ]
    }
   ],
   "source": [
    "!ls models"
   ]
  },
  {
   "cell_type": "markdown",
   "metadata": {},
   "source": [
    "The above files are the serialized model that was saved to disc. All model test scores are consistent with the initial test score (81%). This shows the serialized model works. The joblib serialization is the most preferred because it can hold model parameters in the form of sparse vectors, as well as you do not need to know the model parameters to serialize."
   ]
  }
 ],
 "metadata": {
  "kernelspec": {
   "display_name": "Python 3",
   "language": "python",
   "name": "python3"
  },
  "language_info": {
   "codemirror_mode": {
    "name": "ipython",
    "version": 3
   },
   "file_extension": ".py",
   "mimetype": "text/x-python",
   "name": "python",
   "nbconvert_exporter": "python",
   "pygments_lexer": "ipython3",
   "version": "3.7.7"
  }
 },
 "nbformat": 4,
 "nbformat_minor": 4
}
